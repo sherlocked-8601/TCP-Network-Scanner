{
 "cells": [
  {
   "cell_type": "markdown",
   "id": "b46c28e1",
   "metadata": {},
   "source": [
    "# TCP/IP Network Scanner\n"
   ]
  },
  {
   "cell_type": "markdown",
   "id": "403dcc22",
   "metadata": {},
   "source": [
    "This script works in three parts. It selects the range of IP address to ping sweep scan by splitting it into parts. This is followed by using a function for scanning the address, which further uses the socket. Later, it gives the response about the host and time taken for completing the scanning process.The error indicator is 0 if the operation succeeds, otherwise, it is the value of the errno variable. Here the port number is set to 135"
   ]
  },
  {
   "cell_type": "code",
   "execution_count": 9,
   "id": "3123e75e",
   "metadata": {},
   "outputs": [
    {
     "name": "stdout",
     "output_type": "stream",
     "text": [
      "Enter the IP address: 127.0.0.1\n",
      "Enter the Starting Count: 1\n",
      "Enter the Final Count: 5\n",
      "127.0.0.1  is live\n",
      "127.0.0.2  is live\n",
      "127.0.0.3  is live\n",
      "127.0.0.4  is live\n",
      "127.0.0.5  is live\n",
      "Scan completed in  0:00:00.082944\n"
     ]
    }
   ],
   "source": [
    "import socket\n",
    "from datetime import datetime\n",
    "net = input(\"Enter the IP address: \")\n",
    "n1 = net.split('.')\n",
    "a='.'\n",
    "\n",
    "n2 =n1[0]+a+n1[1]+a+n1[2]+a\n",
    "\n",
    "start = int(input(\"Enter the Starting Count: \"))\n",
    "end = int(input(\"Enter the Final Count: \"))\n",
    "end = end+1\n",
    "t1=datetime.now()\n",
    "\n",
    "def scan(addr):\n",
    "    s=socket.socket(socket.AF_INET,socket.SOCK_STREAM)\n",
    "    socket.setdefaulttimeout(1)\n",
    "    res = s.connect_ex((addr,135))\n",
    "    if res == 0:\n",
    "        return 1\n",
    "    else:\n",
    "        return 0\n",
    "    \n",
    "def r1():\n",
    "    for ip in range(start,end):\n",
    "        addr = n2 + str(ip)\n",
    "        if(scan(addr)):\n",
    "            print(addr,\" is live\")\n",
    "r1()\n",
    "t2 = datetime.now()\n",
    "total = t2-t1\n",
    "print(\"Scan completed in \",total)\n",
    "    \n",
    "    "
   ]
  },
  {
   "cell_type": "code",
   "execution_count": null,
   "id": "382a42bf",
   "metadata": {},
   "outputs": [],
   "source": []
  }
 ],
 "metadata": {
  "kernelspec": {
   "display_name": "Python 3 (ipykernel)",
   "language": "python",
   "name": "python3"
  },
  "language_info": {
   "codemirror_mode": {
    "name": "ipython",
    "version": 3
   },
   "file_extension": ".py",
   "mimetype": "text/x-python",
   "name": "python",
   "nbconvert_exporter": "python",
   "pygments_lexer": "ipython3",
   "version": "3.9.7"
  }
 },
 "nbformat": 4,
 "nbformat_minor": 5
}
